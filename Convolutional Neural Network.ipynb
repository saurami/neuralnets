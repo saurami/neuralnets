{
 "cells": [
  {
   "cell_type": "code",
   "execution_count": 2,
   "metadata": {},
   "outputs": [
    {
     "name": "stdout",
     "output_type": "stream",
     "text": [
      "The tensorboard extension is already loaded. To reload it, use:\n",
      "  %reload_ext tensorboard\n"
     ]
    }
   ],
   "source": [
    "from __future__ import print_function\n",
    "import keras\n",
    "from keras.datasets import mnist\n",
    "from keras.models import Sequential\n",
    "from keras.layers import Dense, Dropout, Flatten\n",
    "from keras.layers import Conv2D, MaxPooling2D\n",
    "from keras import backend as K\n",
    "\n",
    "# In-built dataset\n",
    "import tensorflow.compat.v1 as tf\n",
    "#tf.enable_eager_execution()\n",
    "tf.executing_eagerly()\n",
    "tf.disable_v2_behavior()\n",
    "import tensorflow_datasets as tfds\n",
    "\n",
    "# TensorBoard : load notebook extension and clear previous logs\n",
    "import datetime\n",
    "%load_ext tensorboard\n",
    "!rm -rf ./logs/\n",
    "\n",
    "batch_size = 128\n",
    "num_classes = 54\n",
    "epochs = 12\n",
    "\n",
    "# input image dimensions\n",
    "img_rows, img_cols = 28, 28\n",
    "\n",
    "\n",
    "# batch_size=-1 to get the full dataset in NumPy arrays from the returned tf.Tensor object\n",
    "emnist_train = tfds.load(name=\"emnist\", split=tfds.Split.TRAIN, batch_size=-1) \n",
    "emnist_test = tfds.load(name=\"emnist\", split=tfds.Split.TEST, batch_size=-1)\n",
    "\n",
    "# tfds.as_numpy return a generator that yields NumPy array records out of a tf.data.Dataset\n",
    "emnist_train = tfds.as_numpy(emnist_train) \n",
    "emnist_test = tfds.as_numpy(emnist_test)\n",
    "\n",
    "x_train, y_train = emnist_train[\"image\"], emnist_train[\"label\"] # seperate x and y\n",
    "x_test, y_test = emnist_test[\"image\"], emnist_test[\"label\"]\n"
   ]
  },
  {
   "cell_type": "code",
   "execution_count": 3,
   "metadata": {},
   "outputs": [
    {
     "name": "stdout",
     "output_type": "stream",
     "text": [
      "x_train shape: (697932, 28, 28, 1)\n",
      "697932 train samples\n",
      "116323 test samples\n"
     ]
    }
   ],
   "source": [
    "\n",
    "if K.image_data_format() == 'channels_first':\n",
    "    x_train = x_train.reshape(x_train.shape[0], 1, img_rows, img_cols)\n",
    "    x_test = x_test.reshape(x_test.shape[0], 1, img_rows, img_cols)\n",
    "    input_shape = (1, img_rows, img_cols)\n",
    "else:\n",
    "    x_train = x_train.reshape(x_train.shape[0], img_rows, img_cols, 1)\n",
    "    x_test = x_test.reshape(x_test.shape[0], img_rows, img_cols, 1)\n",
    "    input_shape = (img_rows, img_cols, 1)\n",
    "\n",
    "\n",
    "x_train = x_train.astype('float32')\n",
    "x_test = x_test.astype('float32')\n",
    "x_train /= 255\n",
    "x_test /= 255\n",
    "print('x_train shape:', x_train.shape)\n",
    "print(x_train.shape[0], 'train samples')\n",
    "print(x_test.shape[0], 'test samples')\n"
   ]
  },
  {
   "cell_type": "code",
   "execution_count": 4,
   "metadata": {},
   "outputs": [],
   "source": [
    "# convert class vectors to binary class matrices\n",
    "num_classes = 62\n",
    "y_train = keras.utils.to_categorical(y_train, num_classes)\n",
    "y_test = keras.utils.to_categorical(y_test, num_classes)"
   ]
  },
  {
   "cell_type": "code",
   "execution_count": 5,
   "metadata": {},
   "outputs": [
    {
     "name": "stdout",
     "output_type": "stream",
     "text": [
      "WARNING:tensorflow:From /home/saurabh/Desktop/artificial_neural_networks/convolutional_neural_network/machine_intelligence/lib/python3.6/site-packages/tensorflow_core/python/ops/resource_variable_ops.py:1635: calling BaseResourceVariable.__init__ (from tensorflow.python.ops.resource_variable_ops) with constraint is deprecated and will be removed in a future version.\n",
      "Instructions for updating:\n",
      "If using Keras pass *_constraint arguments to layers.\n"
     ]
    },
    {
     "name": "stderr",
     "output_type": "stream",
     "text": [
      "WARNING:tensorflow:From /home/saurabh/Desktop/artificial_neural_networks/convolutional_neural_network/machine_intelligence/lib/python3.6/site-packages/tensorflow_core/python/ops/resource_variable_ops.py:1635: calling BaseResourceVariable.__init__ (from tensorflow.python.ops.resource_variable_ops) with constraint is deprecated and will be removed in a future version.\n",
      "Instructions for updating:\n",
      "If using Keras pass *_constraint arguments to layers.\n"
     ]
    },
    {
     "name": "stdout",
     "output_type": "stream",
     "text": [
      "Train on 558345 samples, validate on 139587 samples\n",
      "Epoch 1/12\n",
      "558345/558345 [==============================] - 925s 2ms/step - loss: 0.7513 - accuracy: 0.7707 - val_loss: 0.4434 - val_accuracy: 0.8447\n",
      "Epoch 2/12\n",
      "558345/558345 [==============================] - 900s 2ms/step - loss: 0.5356 - accuracy: 0.8237 - val_loss: 0.4264 - val_accuracy: 0.8531\n",
      "Epoch 3/12\n",
      "558345/558345 [==============================] - 941s 2ms/step - loss: 0.5041 - accuracy: 0.8325 - val_loss: 0.4182 - val_accuracy: 0.8558\n",
      "Epoch 4/12\n",
      "558345/558345 [==============================] - 868s 2ms/step - loss: 0.4876 - accuracy: 0.8369 - val_loss: 0.4083 - val_accuracy: 0.8589\n",
      "Epoch 5/12\n",
      "558345/558345 [==============================] - 854s 2ms/step - loss: 0.4773 - accuracy: 0.8397 - val_loss: 0.3933 - val_accuracy: 0.8584\n",
      "Epoch 6/12\n",
      "558345/558345 [==============================] - 856s 2ms/step - loss: 0.4707 - accuracy: 0.8416 - val_loss: 0.4046 - val_accuracy: 0.8616\n",
      "Epoch 7/12\n",
      "558345/558345 [==============================] - 799s 1ms/step - loss: 0.4620 - accuracy: 0.8442 - val_loss: 0.3873 - val_accuracy: 0.8610\n",
      "Epoch 8/12\n",
      "558345/558345 [==============================] - 794s 1ms/step - loss: 0.4573 - accuracy: 0.8455 - val_loss: 0.3884 - val_accuracy: 0.8609\n",
      "Epoch 9/12\n",
      "558345/558345 [==============================] - 786s 1ms/step - loss: 0.4527 - accuracy: 0.8466 - val_loss: 0.4082 - val_accuracy: 0.8601\n",
      "Epoch 10/12\n",
      "558345/558345 [==============================] - 782s 1ms/step - loss: 0.4493 - accuracy: 0.8477 - val_loss: 0.4049 - val_accuracy: 0.8610\n",
      "Epoch 11/12\n",
      "558345/558345 [==============================] - 787s 1ms/step - loss: 0.4457 - accuracy: 0.8487 - val_loss: 0.3885 - val_accuracy: 0.8620\n",
      "Epoch 12/12\n",
      "558345/558345 [==============================] - 829s 1ms/step - loss: 0.4430 - accuracy: 0.8491 - val_loss: 0.3893 - val_accuracy: 0.8627\n",
      "Test loss: 0.3905493455983342\n",
      "Test accuracy: 0.8607326149940491\n"
     ]
    }
   ],
   "source": [
    "model = Sequential()\n",
    "model.add(Conv2D(32, kernel_size=(3, 3),\n",
    "                 activation='relu',\n",
    "                 input_shape=input_shape))\n",
    "model.add(Conv2D(64, (3, 3), activation='relu'))\n",
    "model.add(MaxPooling2D(pool_size=(2, 2)))\n",
    "model.add(Dropout(0.25))\n",
    "model.add(Flatten())\n",
    "model.add(Dense(128, activation='relu'))\n",
    "model.add(Dropout(0.5))\n",
    "model.add(Dense(num_classes, activation='softmax'))\n",
    "\n",
    "model.compile(loss=keras.losses.categorical_crossentropy,\n",
    "              optimizer=keras.optimizers.Adadelta(),\n",
    "              metrics=['accuracy'])\n",
    "\n",
    "log_dir = \"logs/fit/\" + datetime.datetime.now().strftime(\"%Y%m%d-%H%M%S\")\n",
    "tensorboard_callback = tf.keras.callbacks.TensorBoard(log_dir=log_dir, histogram_freq=1)\n",
    "\n",
    "model.fit(x_train, y_train,\n",
    "          batch_size=batch_size,\n",
    "          epochs=epochs,\n",
    "          verbose=1,\n",
    "          validation_split=0.2,\n",
    "          #validation_data=(x_test, y_test),\n",
    "          callbacks=[tensorboard_callback])\n",
    "\n",
    "score = model.evaluate(x_test, y_test, verbose=0)\n",
    "print('Test loss:', score[0])\n",
    "print('Test accuracy:', score[1])"
   ]
  },
  {
   "cell_type": "code",
   "execution_count": null,
   "metadata": {},
   "outputs": [],
   "source": []
  },
  {
   "cell_type": "markdown",
   "metadata": {},
   "source": [
    "## TensorBoard"
   ]
  },
  {
   "cell_type": "code",
   "execution_count": 7,
   "metadata": {},
   "outputs": [
    {
     "data": {
      "text/plain": [
       "Reusing TensorBoard on port 6007 (pid 12092), started 0:01:27 ago. (Use '!kill 12092' to kill it.)"
      ]
     },
     "metadata": {},
     "output_type": "display_data"
    },
    {
     "data": {
      "text/html": [
       "\n",
       "      <iframe id=\"tensorboard-frame-3f9032f4fdefa412\" width=\"100%\" height=\"800\" frameborder=\"0\">\n",
       "      </iframe>\n",
       "      <script>\n",
       "        (function() {\n",
       "          const frame = document.getElementById(\"tensorboard-frame-3f9032f4fdefa412\");\n",
       "          const url = new URL(\"/\", window.location);\n",
       "          url.port = 6007;\n",
       "          frame.src = url;\n",
       "        })();\n",
       "      </script>\n",
       "  "
      ],
      "text/plain": [
       "<IPython.core.display.HTML object>"
      ]
     },
     "metadata": {},
     "output_type": "display_data"
    }
   ],
   "source": [
    "tensorboard --logdir logs/fit"
   ]
  },
  {
   "cell_type": "markdown",
   "metadata": {},
   "source": [
    "**(Note):** tensorboard can be opened on \"http://localhost:6006\" when run locally"
   ]
  },
  {
   "cell_type": "markdown",
   "metadata": {},
   "source": [
    "## Observation"
   ]
  },
  {
   "cell_type": "markdown",
   "metadata": {},
   "source": [
    "We obtained maximum accuracy with the above model, with Test loss: 39.05% and Test accuracy: 86.07%.\n",
    "\n",
    "In this case, 20% of the data was used for validation as indicated by `validation_split` in `model.fit`.\n",
    "\n",
    "We also observed that adding `MaxPooling` layers, and increasing the number of `strides` reduces the time per epoch."
   ]
  },
  {
   "cell_type": "markdown",
   "metadata": {},
   "source": [
    "**Varying architecture with the below model**\n",
    "\n",
    "```\n",
    "model = Sequential()\n",
    "model.add(Conv2D(32, kernel_size=(3, 3),\n",
    "                 activation='relu',\n",
    "                 strides=(2, 2),\n",
    "                 input_shape=input_shape))\n",
    "model.add(MaxPooling2D(pool_size=(2, 2))\n",
    "model.add(Conv2D(64, (3, 3), activation='relu'))\n",
    "model.add(MaxPooling2D(pool_size=(2, 2))\n",
    "model.add(Dropout(0.25))\n",
    "model.add(Flatten())\n",
    "model.add(Dense(512, activation='relu'))\n",
    "model.add(Dropout(0.5))\n",
    "model.add(Dense(num_classes, activation='softmax'))\n",
    "```\n",
    "\n",
    "Test Loss: 39.34%\n",
    "\n",
    "Test accuracy: 85.67%"
   ]
  },
  {
   "cell_type": "markdown",
   "metadata": {},
   "source": [
    "**Varying architecture with the below model**\n",
    "\n",
    "```\n",
    "model.add(Conv2D(32, kernel_size=(3, 3),\n",
    "                 activation='relu',\n",
    "                 strides=(2, 2),\n",
    "                 input_shape=input_shape))\n",
    "model.add(MaxPooling2D(pool_size=(2, 2)))\n",
    "model.add(Dropout(0.25))\n",
    "model.add(Conv2D(64, kernel_size=(3, 3), activation='relu'))\n",
    "model.add(MaxPooling2D(pool_size=(2, 2), strides=(2, 2)))\n",
    "model.add(Dropout(0.25))\n",
    "model.add(Flatten())\n",
    "model.add(Dense(512, activation='relu'))\n",
    "model.add(Dropout(0.25))\n",
    "model.add(Dense(num_classes, activation='softmax'))\n",
    "```\n",
    "\n",
    "Test loss: 38.58%\n",
    "\n",
    "Test accuracy: 85.83%"
   ]
  },
  {
   "cell_type": "code",
   "execution_count": null,
   "metadata": {},
   "outputs": [],
   "source": []
  }
 ],
 "metadata": {
  "kernelspec": {
   "display_name": "Python 3",
   "language": "python",
   "name": "python3"
  },
  "language_info": {
   "codemirror_mode": {
    "name": "ipython",
    "version": 3
   },
   "file_extension": ".py",
   "mimetype": "text/x-python",
   "name": "python",
   "nbconvert_exporter": "python",
   "pygments_lexer": "ipython3",
   "version": "3.6.9"
  }
 },
 "nbformat": 4,
 "nbformat_minor": 4
}
